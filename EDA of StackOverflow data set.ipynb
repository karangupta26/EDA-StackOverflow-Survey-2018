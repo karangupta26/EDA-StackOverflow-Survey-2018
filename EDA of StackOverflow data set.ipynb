{
 "cells": [
  {
   "cell_type": "code",
   "execution_count": 1,
   "metadata": {
    "collapsed": true
   },
   "outputs": [],
   "source": [
    "import pandas as pd\n",
    "import seaborn as sns\n",
    "import matplotlib.pyplot as plt\n",
    "import numpy as np\n",
    "from collections import Counter"
   ]
  },
  {
   "cell_type": "code",
   "execution_count": 2,
   "metadata": {},
   "outputs": [
    {
     "name": "stderr",
     "output_type": "stream",
     "text": [
      "C:\\Users\\Karan\\Anaconda3\\lib\\site-packages\\IPython\\core\\interactiveshell.py:2698: DtypeWarning: Columns (8,12,13,14,15,16,50,51,52,53,55,56,57,58,59,60,61,62,63,64,65,66,67,68,69,70,71,72,73,74,75,76,77,78,79,80,81,82,83,84,85,93,94,95,96,97,98,99,100,101,102,103,104,105,106,107,108,109,110,111,112,113,114,115,116,117,118,119,120,121,122,123,124,125,126,127,128) have mixed types. Specify dtype option on import or set low_memory=False.\n",
      "  interactivity=interactivity, compiler=compiler, result=result)\n"
     ]
    }
   ],
   "source": [
    "data=pd.read_csv(\"survey_results_public.csv\")"
   ]
  },
  {
   "cell_type": "code",
   "execution_count": 3,
   "metadata": {},
   "outputs": [
    {
     "data": {
      "text/html": [
       "<div>\n",
       "<style>\n",
       "    .dataframe thead tr:only-child th {\n",
       "        text-align: right;\n",
       "    }\n",
       "\n",
       "    .dataframe thead th {\n",
       "        text-align: left;\n",
       "    }\n",
       "\n",
       "    .dataframe tbody tr th {\n",
       "        vertical-align: top;\n",
       "    }\n",
       "</style>\n",
       "<table border=\"1\" class=\"dataframe\">\n",
       "  <thead>\n",
       "    <tr style=\"text-align: right;\">\n",
       "      <th></th>\n",
       "      <th>Respondent</th>\n",
       "      <th>Hobby</th>\n",
       "      <th>OpenSource</th>\n",
       "      <th>Country</th>\n",
       "      <th>Student</th>\n",
       "      <th>Employment</th>\n",
       "      <th>FormalEducation</th>\n",
       "      <th>UndergradMajor</th>\n",
       "      <th>CompanySize</th>\n",
       "      <th>DevType</th>\n",
       "      <th>...</th>\n",
       "      <th>Exercise</th>\n",
       "      <th>Gender</th>\n",
       "      <th>SexualOrientation</th>\n",
       "      <th>EducationParents</th>\n",
       "      <th>RaceEthnicity</th>\n",
       "      <th>Age</th>\n",
       "      <th>Dependents</th>\n",
       "      <th>MilitaryUS</th>\n",
       "      <th>SurveyTooLong</th>\n",
       "      <th>SurveyEasy</th>\n",
       "    </tr>\n",
       "  </thead>\n",
       "  <tbody>\n",
       "    <tr>\n",
       "      <th>0</th>\n",
       "      <td>1</td>\n",
       "      <td>Yes</td>\n",
       "      <td>No</td>\n",
       "      <td>Kenya</td>\n",
       "      <td>No</td>\n",
       "      <td>Employed part-time</td>\n",
       "      <td>Bachelor’s degree (BA, BS, B.Eng., etc.)</td>\n",
       "      <td>Mathematics or statistics</td>\n",
       "      <td>20 to 99 employees</td>\n",
       "      <td>Full-stack developer</td>\n",
       "      <td>...</td>\n",
       "      <td>3 - 4 times per week</td>\n",
       "      <td>Male</td>\n",
       "      <td>Straight or heterosexual</td>\n",
       "      <td>Bachelor’s degree (BA, BS, B.Eng., etc.)</td>\n",
       "      <td>Black or of African descent</td>\n",
       "      <td>25 - 34 years old</td>\n",
       "      <td>Yes</td>\n",
       "      <td>NaN</td>\n",
       "      <td>The survey was an appropriate length</td>\n",
       "      <td>Very easy</td>\n",
       "    </tr>\n",
       "    <tr>\n",
       "      <th>1</th>\n",
       "      <td>3</td>\n",
       "      <td>Yes</td>\n",
       "      <td>Yes</td>\n",
       "      <td>United Kingdom</td>\n",
       "      <td>No</td>\n",
       "      <td>Employed full-time</td>\n",
       "      <td>Bachelor’s degree (BA, BS, B.Eng., etc.)</td>\n",
       "      <td>A natural science (ex. biology, chemistry, phy...</td>\n",
       "      <td>10,000 or more employees</td>\n",
       "      <td>Database administrator;DevOps specialist;Full-...</td>\n",
       "      <td>...</td>\n",
       "      <td>Daily or almost every day</td>\n",
       "      <td>Male</td>\n",
       "      <td>Straight or heterosexual</td>\n",
       "      <td>Bachelor’s degree (BA, BS, B.Eng., etc.)</td>\n",
       "      <td>White or of European descent</td>\n",
       "      <td>35 - 44 years old</td>\n",
       "      <td>Yes</td>\n",
       "      <td>NaN</td>\n",
       "      <td>The survey was an appropriate length</td>\n",
       "      <td>Somewhat easy</td>\n",
       "    </tr>\n",
       "    <tr>\n",
       "      <th>2</th>\n",
       "      <td>4</td>\n",
       "      <td>Yes</td>\n",
       "      <td>Yes</td>\n",
       "      <td>United States</td>\n",
       "      <td>No</td>\n",
       "      <td>Employed full-time</td>\n",
       "      <td>Associate degree</td>\n",
       "      <td>Computer science, computer engineering, or sof...</td>\n",
       "      <td>20 to 99 employees</td>\n",
       "      <td>Engineering manager;Full-stack developer</td>\n",
       "      <td>...</td>\n",
       "      <td>NaN</td>\n",
       "      <td>NaN</td>\n",
       "      <td>NaN</td>\n",
       "      <td>NaN</td>\n",
       "      <td>NaN</td>\n",
       "      <td>NaN</td>\n",
       "      <td>NaN</td>\n",
       "      <td>NaN</td>\n",
       "      <td>NaN</td>\n",
       "      <td>NaN</td>\n",
       "    </tr>\n",
       "    <tr>\n",
       "      <th>3</th>\n",
       "      <td>5</td>\n",
       "      <td>No</td>\n",
       "      <td>No</td>\n",
       "      <td>United States</td>\n",
       "      <td>No</td>\n",
       "      <td>Employed full-time</td>\n",
       "      <td>Bachelor’s degree (BA, BS, B.Eng., etc.)</td>\n",
       "      <td>Computer science, computer engineering, or sof...</td>\n",
       "      <td>100 to 499 employees</td>\n",
       "      <td>Full-stack developer</td>\n",
       "      <td>...</td>\n",
       "      <td>I don't typically exercise</td>\n",
       "      <td>Male</td>\n",
       "      <td>Straight or heterosexual</td>\n",
       "      <td>Some college/university study without earning ...</td>\n",
       "      <td>White or of European descent</td>\n",
       "      <td>35 - 44 years old</td>\n",
       "      <td>No</td>\n",
       "      <td>No</td>\n",
       "      <td>The survey was an appropriate length</td>\n",
       "      <td>Somewhat easy</td>\n",
       "    </tr>\n",
       "    <tr>\n",
       "      <th>4</th>\n",
       "      <td>7</td>\n",
       "      <td>Yes</td>\n",
       "      <td>No</td>\n",
       "      <td>South Africa</td>\n",
       "      <td>Yes, part-time</td>\n",
       "      <td>Employed full-time</td>\n",
       "      <td>Some college/university study without earning ...</td>\n",
       "      <td>Computer science, computer engineering, or sof...</td>\n",
       "      <td>10,000 or more employees</td>\n",
       "      <td>Data or business analyst;Desktop or enterprise...</td>\n",
       "      <td>...</td>\n",
       "      <td>3 - 4 times per week</td>\n",
       "      <td>Male</td>\n",
       "      <td>Straight or heterosexual</td>\n",
       "      <td>Some college/university study without earning ...</td>\n",
       "      <td>White or of European descent</td>\n",
       "      <td>18 - 24 years old</td>\n",
       "      <td>Yes</td>\n",
       "      <td>NaN</td>\n",
       "      <td>The survey was an appropriate length</td>\n",
       "      <td>Somewhat easy</td>\n",
       "    </tr>\n",
       "  </tbody>\n",
       "</table>\n",
       "<p>5 rows × 129 columns</p>\n",
       "</div>"
      ],
      "text/plain": [
       "   Respondent Hobby OpenSource         Country         Student  \\\n",
       "0           1   Yes         No           Kenya              No   \n",
       "1           3   Yes        Yes  United Kingdom              No   \n",
       "2           4   Yes        Yes   United States              No   \n",
       "3           5    No         No   United States              No   \n",
       "4           7   Yes         No    South Africa  Yes, part-time   \n",
       "\n",
       "           Employment                                    FormalEducation  \\\n",
       "0  Employed part-time           Bachelor’s degree (BA, BS, B.Eng., etc.)   \n",
       "1  Employed full-time           Bachelor’s degree (BA, BS, B.Eng., etc.)   \n",
       "2  Employed full-time                                   Associate degree   \n",
       "3  Employed full-time           Bachelor’s degree (BA, BS, B.Eng., etc.)   \n",
       "4  Employed full-time  Some college/university study without earning ...   \n",
       "\n",
       "                                      UndergradMajor  \\\n",
       "0                          Mathematics or statistics   \n",
       "1  A natural science (ex. biology, chemistry, phy...   \n",
       "2  Computer science, computer engineering, or sof...   \n",
       "3  Computer science, computer engineering, or sof...   \n",
       "4  Computer science, computer engineering, or sof...   \n",
       "\n",
       "                CompanySize  \\\n",
       "0        20 to 99 employees   \n",
       "1  10,000 or more employees   \n",
       "2        20 to 99 employees   \n",
       "3      100 to 499 employees   \n",
       "4  10,000 or more employees   \n",
       "\n",
       "                                             DevType      ...        \\\n",
       "0                               Full-stack developer      ...         \n",
       "1  Database administrator;DevOps specialist;Full-...      ...         \n",
       "2           Engineering manager;Full-stack developer      ...         \n",
       "3                               Full-stack developer      ...         \n",
       "4  Data or business analyst;Desktop or enterprise...      ...         \n",
       "\n",
       "                     Exercise Gender         SexualOrientation  \\\n",
       "0        3 - 4 times per week   Male  Straight or heterosexual   \n",
       "1   Daily or almost every day   Male  Straight or heterosexual   \n",
       "2                         NaN    NaN                       NaN   \n",
       "3  I don't typically exercise   Male  Straight or heterosexual   \n",
       "4        3 - 4 times per week   Male  Straight or heterosexual   \n",
       "\n",
       "                                    EducationParents  \\\n",
       "0           Bachelor’s degree (BA, BS, B.Eng., etc.)   \n",
       "1           Bachelor’s degree (BA, BS, B.Eng., etc.)   \n",
       "2                                                NaN   \n",
       "3  Some college/university study without earning ...   \n",
       "4  Some college/university study without earning ...   \n",
       "\n",
       "                  RaceEthnicity                Age Dependents  MilitaryUS  \\\n",
       "0   Black or of African descent  25 - 34 years old        Yes         NaN   \n",
       "1  White or of European descent  35 - 44 years old        Yes         NaN   \n",
       "2                           NaN                NaN        NaN         NaN   \n",
       "3  White or of European descent  35 - 44 years old         No          No   \n",
       "4  White or of European descent  18 - 24 years old        Yes         NaN   \n",
       "\n",
       "                          SurveyTooLong     SurveyEasy  \n",
       "0  The survey was an appropriate length      Very easy  \n",
       "1  The survey was an appropriate length  Somewhat easy  \n",
       "2                                   NaN            NaN  \n",
       "3  The survey was an appropriate length  Somewhat easy  \n",
       "4  The survey was an appropriate length  Somewhat easy  \n",
       "\n",
       "[5 rows x 129 columns]"
      ]
     },
     "execution_count": 3,
     "metadata": {},
     "output_type": "execute_result"
    }
   ],
   "source": [
    "data.head()"
   ]
  },
  {
   "cell_type": "code",
   "execution_count": 4,
   "metadata": {},
   "outputs": [
    {
     "name": "stdout",
     "output_type": "stream",
     "text": [
      "Total number of Datapoint- 98855\n",
      "Total number of feature- 129\n"
     ]
    }
   ],
   "source": [
    "print(\"Total number of Datapoint-\",data.shape[0])\n",
    "print(\"Total number of feature-\",data.shape[1])\n"
   ]
  },
  {
   "cell_type": "code",
   "execution_count": 5,
   "metadata": {},
   "outputs": [
    {
     "name": "stdout",
     "output_type": "stream",
     "text": [
      "Columns Name-\n"
     ]
    },
    {
     "data": {
      "text/plain": [
       "array(['Respondent', 'Hobby', 'OpenSource', 'Country', 'Student',\n",
       "       'Employment', 'FormalEducation', 'UndergradMajor', 'CompanySize',\n",
       "       'DevType', 'YearsCoding', 'YearsCodingProf', 'JobSatisfaction',\n",
       "       'CareerSatisfaction', 'HopeFiveYears', 'JobSearchStatus',\n",
       "       'LastNewJob', 'AssessJob1', 'AssessJob2', 'AssessJob3',\n",
       "       'AssessJob4', 'AssessJob5', 'AssessJob6', 'AssessJob7',\n",
       "       'AssessJob8', 'AssessJob9', 'AssessJob10', 'AssessBenefits1',\n",
       "       'AssessBenefits2', 'AssessBenefits3', 'AssessBenefits4',\n",
       "       'AssessBenefits5', 'AssessBenefits6', 'AssessBenefits7',\n",
       "       'AssessBenefits8', 'AssessBenefits9', 'AssessBenefits10',\n",
       "       'AssessBenefits11', 'JobContactPriorities1',\n",
       "       'JobContactPriorities2', 'JobContactPriorities3',\n",
       "       'JobContactPriorities4', 'JobContactPriorities5',\n",
       "       'JobEmailPriorities1', 'JobEmailPriorities2',\n",
       "       'JobEmailPriorities3', 'JobEmailPriorities4',\n",
       "       'JobEmailPriorities5', 'JobEmailPriorities6',\n",
       "       'JobEmailPriorities7', 'UpdateCV', 'Currency', 'Salary',\n",
       "       'SalaryType', 'ConvertedSalary', 'CurrencySymbol',\n",
       "       'CommunicationTools', 'TimeFullyProductive', 'EducationTypes',\n",
       "       'SelfTaughtTypes', 'TimeAfterBootcamp', 'HackathonReasons',\n",
       "       'AgreeDisagree1', 'AgreeDisagree2', 'AgreeDisagree3',\n",
       "       'LanguageWorkedWith', 'LanguageDesireNextYear',\n",
       "       'DatabaseWorkedWith', 'DatabaseDesireNextYear',\n",
       "       'PlatformWorkedWith', 'PlatformDesireNextYear',\n",
       "       'FrameworkWorkedWith', 'FrameworkDesireNextYear', 'IDE',\n",
       "       'OperatingSystem', 'NumberMonitors', 'Methodology',\n",
       "       'VersionControl', 'CheckInCode', 'AdBlocker', 'AdBlockerDisable',\n",
       "       'AdBlockerReasons', 'AdsAgreeDisagree1', 'AdsAgreeDisagree2',\n",
       "       'AdsAgreeDisagree3', 'AdsActions', 'AdsPriorities1',\n",
       "       'AdsPriorities2', 'AdsPriorities3', 'AdsPriorities4',\n",
       "       'AdsPriorities5', 'AdsPriorities6', 'AdsPriorities7',\n",
       "       'AIDangerous', 'AIInteresting', 'AIResponsible', 'AIFuture',\n",
       "       'EthicsChoice', 'EthicsReport', 'EthicsResponsible',\n",
       "       'EthicalImplications', 'StackOverflowRecommend',\n",
       "       'StackOverflowVisit', 'StackOverflowHasAccount',\n",
       "       'StackOverflowParticipate', 'StackOverflowJobs',\n",
       "       'StackOverflowDevStory', 'StackOverflowJobsRecommend',\n",
       "       'StackOverflowConsiderMember', 'HypotheticalTools1',\n",
       "       'HypotheticalTools2', 'HypotheticalTools3', 'HypotheticalTools4',\n",
       "       'HypotheticalTools5', 'WakeTime', 'HoursComputer', 'HoursOutside',\n",
       "       'SkipMeals', 'ErgonomicDevices', 'Exercise', 'Gender',\n",
       "       'SexualOrientation', 'EducationParents', 'RaceEthnicity', 'Age',\n",
       "       'Dependents', 'MilitaryUS', 'SurveyTooLong', 'SurveyEasy'],\n",
       "      dtype=object)"
      ]
     },
     "execution_count": 5,
     "metadata": {},
     "output_type": "execute_result"
    }
   ],
   "source": [
    "print(\"Columns Name-\")\n",
    "data.columns.values"
   ]
  },
  {
   "cell_type": "code",
   "execution_count": 10,
   "metadata": {},
   "outputs": [],
   "source": [
    "data_schema=pd.read_csv(\"survey_results_schema.csv\").set_index('Column')"
   ]
  },
  {
   "cell_type": "markdown",
   "metadata": {},
   "source": [
    "# Missing Data in Responses"
   ]
  },
  {
   "cell_type": "code",
   "execution_count": 7,
   "metadata": {},
   "outputs": [
    {
     "data": {
      "image/png": "[encoded data removed]",
      "text/plain": [
       "<matplotlib.figure.Figure at 0xa50decada0>"
      ]
     },
     "metadata": {},
     "output_type": "display_data"
    }
   ],
   "source": [
    "total = data.isnull().sum().sort_values(ascending = False)\n",
    "percent = (data.isnull().sum()/data.isnull().count()*100).sort_values(ascending = False)\n",
    "tmp = pd.concat([total, percent], axis=1, keys=['Total', 'Percent'])\n",
    "\n",
    "def plot_missing_data(start, end, text):\n",
    "    tmp1 = tmp[start:end]\n",
    "    plt.figure(figsize = (16,4))\n",
    "    plt.title('Missing data - percents of missing data (part %s)' % text)\n",
    "    s = sns.barplot(x=tmp1.index,y=tmp1['Percent'])\n",
    "    s.set_xticklabels(s.get_xticklabels(),rotation=90)\n",
    "    plt.show()    \n",
    "    \n",
    "\n",
    "plot_missing_data(1,65,\"I\")"
   ]
  },
  {
   "cell_type": "code",
   "execution_count": 8,
   "metadata": {},
   "outputs": [
    {
     "data": {
      "image/png": "[encoded data removed]",
      "text/plain": [
       "<matplotlib.figure.Figure at 0xa507e7f630>"
      ]
     },
     "metadata": {},
     "output_type": "display_data"
    }
   ],
   "source": [
    "plot_missing_data(66,129,\"II\")"
   ]
  },
  {
   "cell_type": "markdown",
   "metadata": {},
   "source": [
    "### As in the above data we can see there a lot of features on which we can perform EDA but as for learning perposes i will choose some of them such as:-\n"
   ]
  },
  {
   "cell_type": "code",
   "execution_count": 9,
   "metadata": {
    "collapsed": true
   },
   "outputs": [],
   "source": [
    "data=data[['Hobby', 'OpenSource', 'Country', 'Student',\n",
    "       'Employment', 'FormalEducation', 'UndergradMajor', \n",
    "       'DevType', 'YearsCoding', 'YearsCodingProf', 'JobSatisfaction',\n",
    "       'CareerSatisfaction',  'UpdateCV', 'Currency', 'Salary',\n",
    "       'SalaryType', 'ConvertedSalary', 'CurrencySymbol',\n",
    "       'CommunicationTools', 'TimeFullyProductive', 'EducationTypes',\n",
    "       'SelfTaughtTypes', 'TimeAfterBootcamp', 'HackathonReasons',\n",
    "       'LanguageWorkedWith', 'LanguageDesireNextYear',\n",
    "       'DatabaseWorkedWith', 'DatabaseDesireNextYear',\n",
    "       'PlatformWorkedWith', 'PlatformDesireNextYear',\n",
    "       'FrameworkWorkedWith', 'FrameworkDesireNextYear', 'IDE',\n",
    "       'OperatingSystem', 'NumberMonitors', 'Methodology',\n",
    "       'VersionControl', 'CheckInCode', 'AIDangerous', 'AIInteresting', 'AIResponsible', 'AIFuture',\n",
    "       'EthicsChoice', 'EthicsReport', 'EthicsResponsible',\n",
    "       'EthicalImplications', 'StackOverflowRecommend',\n",
    "       'StackOverflowVisit', 'StackOverflowHasAccount',\n",
    "       'StackOverflowParticipate', 'StackOverflowJobs',\n",
    "       'StackOverflowDevStory', 'StackOverflowJobsRecommend',\n",
    "       'StackOverflowConsiderMember', 'WakeTime', 'HoursComputer', 'HoursOutside',\n",
    "       'SkipMeals', 'ErgonomicDevices', 'Exercise', 'Gender',\n",
    "        'Age']]"
   ]
  },
  {
   "cell_type": "code",
   "execution_count": 10,
   "metadata": {},
   "outputs": [
    {
     "name": "stdout",
     "output_type": "stream",
     "text": [
      "Total number of Datapoint- 98855\n",
      "Total number of New feature- 62\n"
     ]
    }
   ],
   "source": [
    "print(\"Total number of Datapoint-\",data.shape[0])\n",
    "print(\"Total number of New feature-\",data.shape[1])\n"
   ]
  },
  {
   "cell_type": "code",
   "execution_count": 12,
   "metadata": {},
   "outputs": [
    {
     "name": "stdout",
     "output_type": "stream",
     "text": [
      "\t\t\t\t\t\tColumn- Hobby\n",
      "count     98855\n",
      "unique        2\n",
      "top         Yes\n",
      "freq      79897\n",
      "Name: Hobby, dtype: object\n",
      "********************END********************\n",
      "\t\t\t\t\t\tColumn- OpenSource\n",
      "count     98855\n",
      "unique        2\n",
      "top          No\n",
      "freq      55769\n",
      "Name: OpenSource, dtype: object\n",
      "********************END********************\n",
      "\t\t\t\t\t\tColumn- Country\n",
      "count             98443\n",
      "unique              183\n",
      "top       United States\n",
      "freq              20309\n",
      "Name: Country, dtype: object\n",
      "********************END********************\n",
      "\t\t\t\t\t\tColumn- Student\n",
      "count     94901\n",
      "unique        3\n",
      "top          No\n",
      "freq      70399\n",
      "Name: Student, dtype: object\n",
      "********************END********************\n",
      "\t\t\t\t\t\tColumn- Employment\n",
      "count                  95321\n",
      "unique                     6\n",
      "top       Employed full-time\n",
      "freq                   70495\n",
      "Name: Employment, dtype: object\n",
      "********************END********************\n",
      "\t\t\t\t\t\tColumn- FormalEducation\n",
      "count                                        94703\n",
      "unique                                           9\n",
      "top       Bachelor’s degree (BA, BS, B.Eng., etc.)\n",
      "freq                                         43659\n",
      "Name: FormalEducation, dtype: object\n",
      "********************END********************\n",
      "\t\t\t\t\t\tColumn- UndergradMajor\n",
      "count                                                 79036\n",
      "unique                                                   12\n",
      "top       Computer science, computer engineering, or sof...\n",
      "freq                                                  50336\n",
      "Name: UndergradMajor, dtype: object\n",
      "********************END********************\n",
      "\t\t\t\t\t\tColumn- DevType\n",
      "count                  92098\n",
      "unique                  9568\n",
      "top       Back-end developer\n",
      "freq                    6417\n",
      "Name: DevType, dtype: object\n",
      "********************END********************\n",
      "\t\t\t\t\t\tColumn- YearsCoding\n",
      "count         93835\n",
      "unique           11\n",
      "top       3-5 years\n",
      "freq          23313\n",
      "Name: YearsCoding, dtype: object\n",
      "********************END********************\n",
      "\t\t\t\t\t\tColumn- YearsCodingProf\n",
      "count         77903\n",
      "unique           11\n",
      "top       0-2 years\n",
      "freq          23421\n",
      "Name: YearsCodingProf, dtype: object\n",
      "********************END********************\n",
      "\t\t\t\t\t\tColumn- JobSatisfaction\n",
      "count                    69276\n",
      "unique                       7\n",
      "top       Moderately satisfied\n",
      "freq                     26005\n",
      "Name: JobSatisfaction, dtype: object\n",
      "********************END********************\n",
      "\t\t\t\t\t\tColumn- CareerSatisfaction\n",
      "count                    76504\n",
      "unique                       7\n",
      "top       Moderately satisfied\n",
      "freq                     27926\n",
      "Name: CareerSatisfaction, dtype: object\n",
      "********************END********************\n",
      "\t\t\t\t\t\tColumn- UpdateCV\n",
      "count                                              65539\n",
      "unique                                                 8\n",
      "top       My job status or other personal status changed\n",
      "freq                                               27344\n",
      "Name: UpdateCV, dtype: object\n",
      "********************END********************\n",
      "\t\t\t\t\t\tColumn- Currency\n",
      "count                62008\n",
      "unique                  19\n",
      "top       U.S. dollars ($)\n",
      "freq                 20601\n",
      "Name: Currency, dtype: object\n",
      "********************END********************\n",
      "\t\t\t\t\t\tColumn- Salary\n",
      "count     50578\n",
      "unique     3998\n",
      "top           0\n",
      "freq       1121\n",
      "Name: Salary, dtype: object\n",
      "********************END********************\n",
      "\t\t\t\t\t\tColumn- SalaryType\n",
      "count       51070\n",
      "unique          3\n",
      "top       Monthly\n",
      "freq        26252\n",
      "Name: SalaryType, dtype: object\n",
      "********************END********************\n",
      "\t\t\t\t\t\tColumn- ConvertedSalary\n",
      "count    4.770200e+04\n",
      "mean     9.578086e+04\n",
      "std      2.023482e+05\n",
      "min      0.000000e+00\n",
      "25%      2.384400e+04\n",
      "50%      5.507500e+04\n",
      "75%      9.300000e+04\n",
      "max      2.000000e+06\n",
      "Name: ConvertedSalary, dtype: float64\n",
      "********************END********************\n",
      "\t\t\t\t\t\tColumn- CurrencySymbol\n",
      "count     58650\n",
      "unique      112\n",
      "top         USD\n",
      "freq      17330\n",
      "Name: CurrencySymbol, dtype: object\n",
      "********************END********************\n",
      "\t\t\t\t\t\tColumn- CommunicationTools\n",
      "count                                                 56970\n",
      "unique                                                 1149\n",
      "top       Office / productivity suite (Microsoft Office,...\n",
      "freq                                                   3523\n",
      "Name: CommunicationTools, dtype: object\n",
      "********************END********************\n",
      "\t\t\t\t\t\tColumn- TimeFullyProductive\n",
      "count                   51872\n",
      "unique                      6\n",
      "top       One to three months\n",
      "freq                    23163\n",
      "Name: TimeFullyProductive, dtype: object\n",
      "********************END********************\n",
      "\t\t\t\t\t\tColumn- EducationTypes\n",
      "count                                                 67960\n",
      "unique                                                  494\n",
      "top       Taught yourself a new language, framework, or ...\n",
      "freq                                                   6900\n",
      "Name: EducationTypes, dtype: object\n",
      "********************END********************\n",
      "\t\t\t\t\t\tColumn- SelfTaughtTypes\n",
      "count                                                 57354\n",
      "unique                                                  471\n",
      "top       The official documentation and/or standards fo...\n",
      "freq                                                   3426\n",
      "Name: SelfTaughtTypes, dtype: object\n",
      "********************END********************\n",
      "\t\t\t\t\t\tColumn- TimeAfterBootcamp\n",
      "count                                                  6652\n",
      "unique                                                    8\n",
      "top       I already had a full-time job as a developer w...\n",
      "freq                                                   3025\n",
      "Name: TimeAfterBootcamp, dtype: object\n",
      "********************END********************\n",
      "\t\t\t\t\t\tColumn- HackathonReasons\n",
      "count                                                 25691\n",
      "unique                                                  127\n",
      "top       To improve my general technical skills or prog...\n",
      "freq                                                   3160\n",
      "Name: HackathonReasons, dtype: object\n",
      "********************END********************\n",
      "\t\t\t\t\t\tColumn- LanguageWorkedWith\n",
      "count                          78334\n",
      "unique                         26678\n",
      "top       C#;JavaScript;SQL;HTML;CSS\n",
      "freq                            1347\n",
      "Name: LanguageWorkedWith, dtype: object\n",
      "********************END********************\n",
      "\t\t\t\t\t\tColumn- LanguageDesireNextYear\n",
      "count      73244\n",
      "unique     28657\n",
      "top       Python\n",
      "freq         908\n",
      "Name: LanguageDesireNextYear, dtype: object\n",
      "********************END********************\n",
      "\t\t\t\t\t\tColumn- DatabaseWorkedWith\n",
      "count     66270\n",
      "unique     6877\n",
      "top       MySQL\n",
      "freq       5968\n",
      "Name: DatabaseWorkedWith, dtype: object\n",
      "********************END********************\n",
      "\t\t\t\t\t\tColumn- DatabaseDesireNextYear\n",
      "count     57498\n",
      "unique    10028\n",
      "top       MySQL\n",
      "freq       2889\n",
      "Name: DatabaseDesireNextYear, dtype: object\n",
      "********************END********************\n",
      "\t\t\t\t\t\tColumn- PlatformWorkedWith\n",
      "count                         65999\n",
      "unique                         9320\n",
      "top       Windows Desktop or Server\n",
      "freq                           5419\n",
      "Name: PlatformWorkedWith, dtype: object\n",
      "********************END********************\n",
      "\t\t\t\t\t\tColumn- PlatformDesireNextYear\n",
      "count     61353\n",
      "unique    13704\n",
      "top       Linux\n",
      "freq       3793\n",
      "Name: PlatformDesireNextYear, dtype: object\n",
      "********************END********************\n",
      "\t\t\t\t\t\tColumn- FrameworkWorkedWith\n",
      "count         51620\n",
      "unique         1014\n",
      "top       .NET Core\n",
      "freq           4517\n",
      "Name: FrameworkWorkedWith, dtype: object\n",
      "********************END********************\n",
      "\t\t\t\t\t\tColumn- FrameworkDesireNextYear\n",
      "count             55218\n",
      "unique             1786\n",
      "top       Node.js;React\n",
      "freq               3797\n",
      "Name: FrameworkDesireNextYear, dtype: object\n",
      "********************END********************\n",
      "\t\t\t\t\t\tColumn- IDE\n",
      "count                                75398\n",
      "unique                                7884\n",
      "top       Visual Studio;Visual Studio Code\n",
      "freq                                  2548\n",
      "Name: IDE, dtype: object\n",
      "********************END********************\n",
      "\t\t\t\t\t\tColumn- OperatingSystem\n",
      "count       76179\n",
      "unique          4\n",
      "top       Windows\n",
      "freq        38022\n",
      "Name: OperatingSystem, dtype: object\n",
      "********************END********************\n",
      "\t\t\t\t\t\tColumn- NumberMonitors\n",
      "count     76398\n",
      "unique        5\n",
      "top           2\n",
      "freq      39063\n",
      "Name: NumberMonitors, dtype: object\n",
      "********************END********************\n",
      "\t\t\t\t\t\tColumn- Methodology\n",
      "count           58981\n",
      "unique            480\n",
      "top       Agile;Scrum\n",
      "freq             9724\n",
      "Name: Methodology, dtype: object\n",
      "********************END********************\n",
      "\t\t\t\t\t\tColumn- VersionControl\n",
      "count     74298\n",
      "unique       90\n",
      "top         Git\n",
      "freq      44133\n",
      "Name: VersionControl, dtype: object\n",
      "********************END********************\n",
      "\t\t\t\t\t\tColumn- CheckInCode\n",
      "count                      72355\n",
      "unique                         6\n",
      "top       Multiple times per day\n",
      "freq                       43566\n",
      "Name: CheckInCode, dtype: object\n",
      "********************END********************\n",
      "\t\t\t\t\t\tColumn- AIDangerous\n",
      "count                                     63115\n",
      "unique                                        4\n",
      "top       Algorithms making important decisions\n",
      "freq                                      18020\n",
      "Name: AIDangerous, dtype: object\n",
      "********************END********************\n",
      "\t\t\t\t\t\tColumn- AIInteresting\n",
      "count                             65367\n",
      "unique                                4\n",
      "top       Increasing automation of jobs\n",
      "freq                              26644\n",
      "Name: AIInteresting, dtype: object\n",
      "********************END********************\n",
      "\t\t\t\t\t\tColumn- AIResponsible\n",
      "count                                            65553\n",
      "unique                                               4\n",
      "top       The developers or the people creating the AI\n",
      "freq                                             31348\n",
      "Name: AIResponsible, dtype: object\n",
      "********************END********************\n",
      "\t\t\t\t\t\tColumn- AIFuture\n",
      "count                                                 69728\n",
      "unique                                                    3\n",
      "top       I'm excited about the possibilities more than ...\n",
      "freq                                                  50773\n",
      "Name: AIFuture, dtype: object\n",
      "********************END********************\n",
      "\t\t\t\t\t\tColumn- EthicsChoice\n",
      "count     70782\n",
      "unique        3\n",
      "top          No\n",
      "freq      41441\n",
      "Name: EthicsChoice, dtype: object\n",
      "********************END********************\n",
      "\t\t\t\t\t\tColumn- EthicsReport\n",
      "count                     70426\n",
      "unique                        4\n",
      "top       Depends on what it is\n",
      "freq                      32812\n",
      "Name: EthicsReport, dtype: object\n",
      "********************END********************\n",
      "\t\t\t\t\t\tColumn- EthicsResponsible\n",
      "count                                            64540\n",
      "unique                                               3\n",
      "top       Upper management at the company/organization\n",
      "freq                                             37118\n",
      "Name: EthicsResponsible, dtype: object\n",
      "********************END********************\n",
      "\t\t\t\t\t\tColumn- EthicalImplications\n",
      "count     69309\n",
      "unique        3\n",
      "top         Yes\n",
      "freq      55200\n",
      "Name: EthicalImplications, dtype: object\n",
      "********************END********************\n",
      "\t\t\t\t\t\tColumn- StackOverflowRecommend\n",
      "count                76489\n",
      "unique                  11\n",
      "top       10 (Very Likely)\n",
      "freq                 52790\n",
      "Name: StackOverflowRecommend, dtype: object\n",
      "********************END********************\n",
      "\t\t\t\t\t\tColumn- StackOverflowVisit\n",
      "count                     76811\n",
      "unique                        6\n",
      "top       Daily or almost daily\n",
      "freq                      24964\n",
      "Name: StackOverflowVisit, dtype: object\n",
      "********************END********************\n",
      "\t\t\t\t\t\tColumn- StackOverflowHasAccount\n",
      "count     76791\n",
      "unique        3\n",
      "top         Yes\n",
      "freq      67146\n",
      "Name: StackOverflowHasAccount, dtype: object\n",
      "********************END********************\n",
      "\t\t\t\t\t\tColumn- StackOverflowParticipate\n",
      "count                                   65740\n",
      "unique                                      6\n",
      "top       Less than once per month or monthly\n",
      "freq                                    25778\n",
      "Name: StackOverflowParticipate, dtype: object\n",
      "********************END********************\n",
      "\t\t\t\t\t\tColumn- StackOverflowJobs\n",
      "count     75297\n",
      "unique        3\n",
      "top         Yes\n",
      "freq      38727\n",
      "Name: StackOverflowJobs, dtype: object\n",
      "********************END********************\n",
      "\t\t\t\t\t\tColumn- StackOverflowDevStory\n",
      "count                                 65677\n",
      "unique                                    4\n",
      "top       No, and I don't know what that is\n",
      "freq                                  24019\n",
      "Name: StackOverflowDevStory, dtype: object\n",
      "********************END********************\n",
      "\t\t\t\t\t\tColumn- StackOverflowJobsRecommend\n",
      "count                38317\n",
      "unique                  11\n",
      "top       10 (Very Likely)\n",
      "freq                 10137\n",
      "Name: StackOverflowJobsRecommend, dtype: object\n",
      "********************END********************\n",
      "\t\t\t\t\t\tColumn- StackOverflowConsiderMember\n",
      "count     76007\n",
      "unique        3\n",
      "top         Yes\n",
      "freq      42146\n",
      "Name: StackOverflowConsiderMember, dtype: object\n",
      "********************END********************\n",
      "\t\t\t\t\t\tColumn- WakeTime\n",
      "count                      72146\n",
      "unique                        11\n",
      "top       Between 7:01 - 8:00 AM\n",
      "freq                       21250\n",
      "Name: WakeTime, dtype: object\n",
      "********************END********************\n",
      "\t\t\t\t\t\tColumn- HoursComputer\n",
      "count            72133\n",
      "unique               5\n",
      "top       9 - 12 hours\n",
      "freq             37983\n",
      "Name: HoursComputer, dtype: object\n",
      "********************END********************\n",
      "\t\t\t\t\t\tColumn- HoursOutside\n",
      "count           72024\n",
      "unique              5\n",
      "top       1 - 2 hours\n",
      "freq            27788\n",
      "Name: HoursOutside, dtype: object\n",
      "********************END********************\n",
      "\t\t\t\t\t\tColumn- SkipMeals\n",
      "count     71946\n",
      "unique        4\n",
      "top       Never\n",
      "freq      45772\n",
      "Name: SkipMeals, dtype: object\n",
      "********************END********************\n",
      "\t\t\t\t\t\tColumn- ErgonomicDevices\n",
      "count                           34058\n",
      "unique                             15\n",
      "top       Ergonomic keyboard or mouse\n",
      "freq                            10164\n",
      "Name: ErgonomicDevices, dtype: object\n",
      "********************END********************\n",
      "\t\t\t\t\t\tColumn- Exercise\n",
      "count                          72108\n",
      "unique                             4\n",
      "top       I don't typically exercise\n",
      "freq                           26995\n",
      "Name: Exercise, dtype: object\n",
      "********************END********************\n",
      "\t\t\t\t\t\tColumn- Gender\n",
      "count     64469\n",
      "unique       15\n",
      "top        Male\n",
      "freq      59458\n",
      "Name: Gender, dtype: object\n",
      "********************END********************\n",
      "\t\t\t\t\t\tColumn- Age\n",
      "count                 64574\n",
      "unique                    7\n",
      "top       25 - 34 years old\n",
      "freq                  31759\n",
      "Name: Age, dtype: object\n",
      "********************END********************\n"
     ]
    }
   ],
   "source": [
    "for column in data:\n",
    "    print(\"\\t\\t\\t\\t\\t\\tColumn-\",column)\n",
    "    print(data[column].describe())    \n",
    "    print(\"********************END********************\")"
   ]
  },
  {
   "cell_type": "markdown",
   "metadata": {},
   "source": [
    "# Data analysis"
   ]
  },
  {
   "cell_type": "markdown",
   "metadata": {},
   "source": [
    "## [1]Hobby"
   ]
  },
  {
   "cell_type": "code",
   "execution_count": 4,
   "metadata": {
    "collapsed": true
   },
   "outputs": [],
   "source": [
    "hobby=(data['Hobby'].value_counts())"
   ]
  },
  {
   "cell_type": "code",
   "execution_count": 60,
   "metadata": {},
   "outputs": [
    {
     "data": {
      "image/png": "[encoded data removed]",
      "text/plain": [
       "<matplotlib.figure.Figure at 0xec490b5a90>"
      ]
     },
     "metadata": {},
     "output_type": "display_data"
    }
   ],
   "source": [
    "objects = ('yes', 'no')\n",
    "#x_pos = np.arange(len(objects))\n",
    "x_pos=[0,.1]\n",
    "plt.figure(figsize=(14,3))\n",
    "plt.barh(x_pos,hobby,.05,align='center' )\n",
    "plt.grid()\n",
    "plt.yticks(x_pos, objects)\n",
    "plt.xlabel('Response')\n",
    "plt.title(data_schema.loc['Hobby'].QuestionText)\n",
    " \n",
    "plt.show()"
   ]
  },
  {
   "cell_type": "code",
   "execution_count": 61,
   "metadata": {},
   "outputs": [
    {
     "name": "stdout",
     "output_type": "stream",
     "text": [
      "[0, 0.1]\n"
     ]
    }
   ],
   "source": [
    "print(x_pos)"
   ]
  },
  {
   "cell_type": "code",
   "execution_count": 24,
   "metadata": {},
   "outputs": [
    {
     "name": "stdout",
     "output_type": "stream",
     "text": [
      "18958\n"
     ]
    }
   ],
   "source": []
  },
  {
   "cell_type": "code",
   "execution_count": null,
   "metadata": {
    "collapsed": true
   },
   "outputs": [],
   "source": []
  },
  {
   "cell_type": "code",
   "execution_count": null,
   "metadata": {
    "collapsed": true
   },
   "outputs": [],
   "source": []
  },
  {
   "cell_type": "code",
   "execution_count": null,
   "metadata": {
    "collapsed": true
   },
   "outputs": [],
   "source": []
  },
  {
   "cell_type": "code",
   "execution_count": null,
   "metadata": {
    "collapsed": true
   },
   "outputs": [],
   "source": []
  },
  {
   "cell_type": "code",
   "execution_count": null,
   "metadata": {
    "collapsed": true
   },
   "outputs": [],
   "source": []
  },
  {
   "cell_type": "code",
   "execution_count": null,
   "metadata": {
    "collapsed": true
   },
   "outputs": [],
   "source": []
  },
  {
   "cell_type": "code",
   "execution_count": null,
   "metadata": {
    "collapsed": true
   },
   "outputs": [],
   "source": []
  },
  {
   "cell_type": "code",
   "execution_count": null,
   "metadata": {
    "collapsed": true
   },
   "outputs": [],
   "source": []
  },
  {
   "cell_type": "code",
   "execution_count": null,
   "metadata": {
    "collapsed": true
   },
   "outputs": [],
   "source": []
  },
  {
   "cell_type": "code",
   "execution_count": null,
   "metadata": {
    "collapsed": true
   },
   "outputs": [],
   "source": []
  },
  {
   "cell_type": "code",
   "execution_count": null,
   "metadata": {
    "collapsed": true
   },
   "outputs": [],
   "source": []
  },
  {
   "cell_type": "code",
   "execution_count": null,
   "metadata": {
    "collapsed": true
   },
   "outputs": [],
   "source": []
  },
  {
   "cell_type": "code",
   "execution_count": null,
   "metadata": {
    "collapsed": true
   },
   "outputs": [],
   "source": []
  },
  {
   "cell_type": "code",
   "execution_count": null,
   "metadata": {
    "collapsed": true
   },
   "outputs": [],
   "source": []
  },
  {
   "cell_type": "code",
   "execution_count": null,
   "metadata": {
    "collapsed": true
   },
   "outputs": [],
   "source": []
  },
  {
   "cell_type": "code",
   "execution_count": null,
   "metadata": {
    "collapsed": true
   },
   "outputs": [],
   "source": []
  },
  {
   "cell_type": "code",
   "execution_count": null,
   "metadata": {
    "collapsed": true
   },
   "outputs": [],
   "source": []
  },
  {
   "cell_type": "code",
   "execution_count": null,
   "metadata": {
    "collapsed": true
   },
   "outputs": [],
   "source": []
  },
  {
   "cell_type": "code",
   "execution_count": null,
   "metadata": {
    "collapsed": true
   },
   "outputs": [],
   "source": []
  }
 ],
 "metadata": {
  "kernelspec": {
   "display_name": "Python 3",
   "language": "python",
   "name": "python3"
  },
  "language_info": {
   "codemirror_mode": {
    "name": "ipython",
    "version": 3
   },
   "file_extension": ".py",
   "mimetype": "text/x-python",
   "name": "python",
   "nbconvert_exporter": "python",
   "pygments_lexer": "ipython3",
   "version": "3.6.5"
  }
 },
 "nbformat": 4,
 "nbformat_minor": 2
}
